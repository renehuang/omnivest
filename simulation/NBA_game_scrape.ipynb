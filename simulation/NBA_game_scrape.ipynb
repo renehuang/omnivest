{
 "cells": [
  {
   "cell_type": "code",
   "execution_count": 33,
   "metadata": {
    "collapsed": true
   },
   "outputs": [],
   "source": [
    "import requests\n",
    "from bs4 import BeautifulSoup\n",
    "import os, pickle\n",
    "os.chdir('d:/programming_files/omnivest/nba')\n",
    "\n",
    "import csv"
   ]
  },
  {
   "cell_type": "code",
   "execution_count": null,
   "metadata": {
    "collapsed": false
   },
   "outputs": [],
   "source": [
    "data = []\n",
    "table = soup.find('table', attrs={'class':'suppress_glossary sortable stats_table'})\n",
    "table_body = table.find('tbody')\n",
    "\n",
    "rows = table_body.find_all('tr')\n",
    "for row in rows:\n",
    "    cols = row.find_all('td')\n",
    "    cols = [ele.text.strip() for ele in cols]\n",
    "    data.append([2017,'Oct.']+[ele for ele in cols if ele]) # Get rid of empty values\n",
    "data"
   ]
  },
  {
   "cell_type": "code",
   "execution_count": 84,
   "metadata": {
    "collapsed": false
   },
   "outputs": [],
   "source": [
    "def get_table(year,month):\n",
    "    temp=[]\n",
    "    url_var=str(year)+'_games-'+month\n",
    "    url=url_start+url_var+url_end\n",
    "    r=requests.get(url)\n",
    "    soup=BeautifulSoup(r.content)\n",
    "    table = soup.find('table', attrs={'class':'suppress_glossary sortable stats_table'})\n",
    "    table_body = table.find('tbody')\n",
    "    rows = table_body.find_all('tr')\n",
    "    for row in rows:\n",
    "        cols = row.find_all('td')\n",
    "        cols = [ele.text.strip() for ele in cols]\n",
    "        temp2=[ele for ele in cols if cols[2] and ele]\n",
    "        #excluding unfinished games\n",
    "        if temp2:\n",
    "            temp.append([year,month]+temp2)\n",
    "    return temp"
   ]
  },
  {
   "cell_type": "code",
   "execution_count": null,
   "metadata": {
    "collapsed": false,
    "scrolled": true
   },
   "outputs": [],
   "source": [
    "#we need data from seasons 2014-2015, 2015-2016, 2016-2017\n",
    "#lists for the loop\n",
    "seasons=[2015,2016,2017]\n",
    "months=['october', 'november', 'december', 'january', 'february',\n",
    "       'march', 'april', 'may','june']\n",
    "data=[]\n",
    "for i in range(len(seasons)):\n",
    "    for j in range(len(months)):\n",
    "        try:\n",
    "            temps=get_table(seasons[i], months[j])\n",
    "            #exclude empty months\n",
    "            if temps:\n",
    "                data=data+temps\n",
    "        except:\n",
    "            print(str(seasons[i])+''+months[j]+' not included')\n",
    "data"
   ]
  },
  {
   "cell_type": "code",
   "execution_count": 96,
   "metadata": {
    "collapsed": true
   },
   "outputs": [],
   "source": [
    "with open('game_data.pkl', 'wb') as f:\n",
    "    pickle.dump(data,f)"
   ]
  },
  {
   "cell_type": "code",
   "execution_count": 104,
   "metadata": {
    "collapsed": false
   },
   "outputs": [],
   "source": [
    "with open('game_data.csv','w',newline='') as f:\n",
    "    writer=csv.writer(f,delimiter=',')\n",
    "    writer.writerow(['year', 'month', 'away_tm','away_score','home_tm','home_score'])\n",
    "    for item in data:\n",
    "        #Write item to outcsv\n",
    "        writer.writerow([item[0], item[1], item[3],item[4],item[5],item[6]])"
   ]
  }
 ],
 "metadata": {
  "kernelspec": {
   "display_name": "Python 3",
   "language": "python",
   "name": "python3"
  },
  "language_info": {
   "codemirror_mode": {
    "name": "ipython",
    "version": 3
   },
   "file_extension": ".py",
   "mimetype": "text/x-python",
   "name": "python",
   "nbconvert_exporter": "python",
   "pygments_lexer": "ipython3",
   "version": "3.4.3"
  }
 },
 "nbformat": 4,
 "nbformat_minor": 0
}
