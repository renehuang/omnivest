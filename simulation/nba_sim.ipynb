{
 "cells": [
  {
   "cell_type": "code",
   "execution_count": 16,
   "metadata": {
    "collapsed": true
   },
   "outputs": [],
   "source": [
    "import os, pandas as pd, numpy as np\n",
    "import math\n",
    "import time\n",
    "path='d:/programming_files/omnivest/nba'\n",
    "os.chdir(path)\n",
    "#data=pd.read_csv('game_data.csv')\n",
    "data=pd.read_pickle('data.pkl')\n",
    "games=pd.read_pickle('games.pkl')\n",
    "teams=pd.read_pickle('teams.pkl')\n",
    "qt_data=pd.read_pickle('qt_data.pkl')"
   ]
  },
  {
   "cell_type": "code",
   "execution_count": null,
   "metadata": {
    "collapsed": true
   },
   "outputs": [],
   "source": [
    "#calculations that we don't need any more\n",
    "data['diff']=data['away_score']-data['home_score']\n",
    "data['sum']=data['away_score']+data['home_score']\n",
    "games2=pd.read_pickle('games2.pkl')\n",
    "\n",
    "teams=data['home_tm']\n",
    "teams=teams.drop_duplicates()\n",
    "teams=teams.values.tolist()\n",
    "teams=pd.DataFrame(data={'name':teams})\n",
    "teams_li=data['home_tm']\n",
    "teams_li=teams_li.drop_duplicates()\n",
    "teams_li=teams_li.values.tolist()\n",
    "\n",
    "temp=[]\n",
    "temp2=[]\n",
    "for i in range(len(teams_li)):\n",
    "    for j in range(len(teams_li)):\n",
    "        if i!=j:\n",
    "            temp.append(teams_li[i])\n",
    "            temp2.append(teams_li[j])\n",
    "games=pd.DataFrame(data={'a_tm':temp,'h_tm':temp2})\n",
    "\n",
    "temp3=[]\n",
    "games['ind']=games['a_tm']+games['h_tm']\n",
    "games=games.set_index('ind')\n",
    "games.index.name=None\n",
    "\n",
    "qt_data=pd.read_csv('NBA_2014_2017_Data.csv')\n",
    "qt_data['ind']=qt_data['away_team']+qt_data['home_team']\n",
    "qt_data=qt_data.set_index('ind')\n",
    "qt_data.index.name=None\n",
    "qt_data.to_pickle('qt_data.pkl')"
   ]
  },
  {
   "cell_type": "code",
   "execution_count": 21,
   "metadata": {
    "collapsed": true
   },
   "outputs": [],
   "source": [
    "#useful calculations need to be done every time\n",
    "c_home=-data['diff'].mean()\n",
    "lmda=data['sum'].mean()\n",
    "#\\sigma^2_(\\delta G)\n",
    "diffvar=data['diff'].var()\n",
    "#variance of q_ij\n",
    "vqij=2*diffvar\n",
    "N=1000"
   ]
  },
  {
   "cell_type": "code",
   "execution_count": 17,
   "metadata": {
    "collapsed": true
   },
   "outputs": [],
   "source": [
    "#team related functions\n",
    "class Team:\n",
    "    def __init__(self, name, data):\n",
    "        self.name=name\n",
    "        self.data=data\n",
    "        #the lines that include team=name as \n",
    "        #the away/home team\n",
    "        self.a_games=data.loc[data['away_tm']==name]\n",
    "        self.h_games=data.loc[data['home_tm']==name]\n",
    "        #average sum of scores for all games\n",
    "        self.lmda=data['sum'].mean()\n",
    "        self.sumvar=data['sum'].var()\n",
    "        self.diffvar=data['diff'].var()\n",
    "    #the average sum of scores scored and conceded by team=name\n",
    "    def sscore(self):\n",
    "        tp1=self.a_games['sum'].values.tolist()\n",
    "        tp1.extend(self.h_games['sum'].values.tolist())\n",
    "        tp2=np.mean(tp1)\n",
    "        b_n=1/(1+3/(len(tp1)*self.sumvar))\n",
    "        tp3=self.lmda+b_n*(tp2-self.lmda)\n",
    "        return tp3\n",
    "    #the average (scored-conceded) per game for team=name\n",
    "    def difscore(self):\n",
    "        tp1=self.a_games['diff'].values.tolist()\n",
    "        tp1.extend([-x for x in self.h_games['diff'].values.tolist()])\n",
    "        tp2=np.mean(tp1)\n",
    "        a_n=1/(1+3/(len(tp1)*self.diffvar))\n",
    "        tp3=a_n*tp2\n",
    "        return tp3"
   ]
  },
  {
   "cell_type": "code",
   "execution_count": 22,
   "metadata": {
    "collapsed": false
   },
   "outputs": [],
   "source": [
    "#the \\Delta G_i for each team\n",
    "diff_li=[]\n",
    "for row in teams['name']:\n",
    "    temp1=Team(row,data)\n",
    "    diff_li.append(temp1.difscore())\n",
    "teams['dlt_g']=diff_li\n",
    "\n",
    "#the \\Sigma G_i for each team\n",
    "sum_li=[]\n",
    "for row in teams['name']:\n",
    "    temp1=Team(row,data)\n",
    "    sum_li.append(temp1.sscore())\n",
    "teams['sigma_g']=sum_li"
   ]
  },
  {
   "cell_type": "code",
   "execution_count": 72,
   "metadata": {
    "collapsed": true
   },
   "outputs": [],
   "source": [
    "teams.to_pickle('teams.pkl')"
   ]
  },
  {
   "cell_type": "code",
   "execution_count": 36,
   "metadata": {
    "collapsed": true
   },
   "outputs": [],
   "source": [
    "games.to_pickle('games.pkl')"
   ]
  },
  {
   "cell_type": "code",
   "execution_count": 31,
   "metadata": {
    "collapsed": false
   },
   "outputs": [],
   "source": [
    "data.to_pickle('data.pkl')"
   ]
  },
  {
   "cell_type": "code",
   "execution_count": 23,
   "metadata": {
    "collapsed": true
   },
   "outputs": [],
   "source": [
    "#game related functions\n",
    "#tm1 is away team, tm2 is home team\n",
    "class Game:\n",
    "    def __init__(self, tm1, tm2):\n",
    "        self.tm1=tm1\n",
    "        self.tm2=tm2\n",
    "        #value of sum of goals g_i+g_j\n",
    "        self.sgoals=teams.ix[self.tm1,'sigma_g']+teams.ix[self.tm2,'sigma_g']-lmda\n",
    "        #mean value of q_ij considering home advantage\n",
    "        #attention i is away team here\n",
    "        self.mqij=teams.ix[self.tm1,'dlt_g']-teams.ix[self.tm2,'dlt_g']-c_home\n",
    "        self.times=N\n",
    "    #monte carlo simulation for poisson\n",
    "    def sim_result(self):\n",
    "        temp=0\n",
    "        game_mqij=games['mqij'].loc[self.tm1+self.tm2]\n",
    "        game_sgoals=games['sgoals'].loc[self.tm1+self.tm2]\n",
    "        a_mean=(game_mqij+game_sgoals)/2\n",
    "        h_mean=(game_sgoals-game_mqij)/2\n",
    "        for i in range(self.times):\n",
    "            t=0 \n",
    "            I=0\n",
    "            while t<=1:\n",
    "                t=t-1/(a_mean+h_mean)*math.log(np.random.random_sample())\n",
    "                I=I+1\n",
    "            temp=temp+I\n",
    "        g_i=round(temp/self.times*a_mean/(a_mean+h_mean))\n",
    "        g_j=round(temp/self.times*h_mean/(a_mean+h_mean))\n",
    "        return g_i, g_j"
   ]
  },
  {
   "cell_type": "code",
   "execution_count": 8,
   "metadata": {
    "collapsed": false
   },
   "outputs": [],
   "source": [
    "#Get for each game the g_i+g_j and the q_ij\n",
    "temp1=[]\n",
    "temp2=[]\n",
    "for index, row in games.iterrows():\n",
    "    one_game=Game(row['a_tm'],row['h_tm'])\n",
    "    temp1.append(one_game.sgoals)\n",
    "    temp2.append(one_game.mqij)\n",
    "games['sgoals']=temp1\n",
    "games['mqij']=temp2"
   ]
  },
  {
   "cell_type": "code",
   "execution_count": 24,
   "metadata": {
    "collapsed": true
   },
   "outputs": [],
   "source": [
    "#Get for each game the simulation result\n",
    "def all_sim():\n",
    "    t1=time.time()\n",
    "    tp_1=[]\n",
    "    tp_2=[]\n",
    "    for index, row in games.iterrows():\n",
    "        one_game=Game(row['a_tm'],row['h_tm'])\n",
    "        rlt1, rlt2=one_game.sim_result()\n",
    "        tp_1.append(rlt1)\n",
    "        tp_2.append(rlt2)\n",
    "    games['sim_ascore']=tp_1\n",
    "    games['sim_hscore']=tp_2\n",
    "    t2=time.time()-t1\n",
    "    print('Time used for this simulation is '+str(t2)+' seconds')\n",
    "    return \n",
    "all_sim()"
   ]
  },
  {
   "cell_type": "code",
   "execution_count": 35,
   "metadata": {
    "collapsed": false
   },
   "outputs": [
    {
     "name": "stdout",
     "output_type": "stream",
     "text": [
      "We pick the right winner for 63.92405063291139 percent of time, predict the right margin for 36.795166858457996 percent of time\n"
     ]
    }
   ],
   "source": [
    "#test the model\n",
    "def test():\n",
    "    temp1=0\n",
    "    temp2=0\n",
    "    for index, row in data.iterrows():\n",
    "        real_mar=row['away_score']-row['home_score']\n",
    "        sim_mar=games['sim_ascore'].loc[row['away_tm']+row['home_tm']]-games['sim_hscore'].loc[row['away_tm']+row['home_tm']]\n",
    "        temp1=temp1+int(real_mar*sim_mar>0)\n",
    "        temp2=temp2+int(math.fabs(real_mar-sim_mar)<=5)\n",
    "    pick=temp1/len(data)*100\n",
    "    mar=temp2/len(data)*100\n",
    "    return pick,mar\n",
    "\n",
    "pick_accu, mar_accu=test()\n",
    "print('We pick the right winner for %s percent of time, predict the right margin for %s percent of time'\n",
    "      %(pick_accu, mar_accu))"
   ]
  },
  {
   "cell_type": "markdown",
   "metadata": {},
   "source": [
    "The accuracy rate of nbagamesim.com is as follows:\n",
    "Correct Picks \t48 (70.6%)\n",
    "Final Margin within 5 Pts \t20 (29.4%)\n",
    "\n",
    "Thus we have a better accuracy then them in predicting the scores\n",
    "What's more, we have a bigger sample size, thus our result is much more impressive. Cheers."
   ]
  }
 ],
 "metadata": {
  "kernelspec": {
   "display_name": "Python 3",
   "language": "python",
   "name": "python3"
  },
  "language_info": {
   "codemirror_mode": {
    "name": "ipython",
    "version": 3
   },
   "file_extension": ".py",
   "mimetype": "text/x-python",
   "name": "python",
   "nbconvert_exporter": "python",
   "pygments_lexer": "ipython3",
   "version": "3.4.3"
  }
 },
 "nbformat": 4,
 "nbformat_minor": 0
}
