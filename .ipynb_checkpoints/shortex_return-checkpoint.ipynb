{
 "cells": [
  {
   "cell_type": "code",
   "execution_count": 1,
   "metadata": {
    "collapsed": false
   },
   "outputs": [
    {
     "ename": "ImportError",
     "evalue": "No module named 'yahoo_finance'",
     "output_type": "error",
     "traceback": [
      "\u001b[0;31m---------------------------------------------------------------------------\u001b[0m",
      "\u001b[0;31mImportError\u001b[0m                               Traceback (most recent call last)",
      "\u001b[0;32m<ipython-input-1-6ceb010cf048>\u001b[0m in \u001b[0;36m<module>\u001b[0;34m()\u001b[0m\n\u001b[1;32m      2\u001b[0m \u001b[1;32mimport\u001b[0m \u001b[0mos\u001b[0m\u001b[1;33m\u001b[0m\u001b[0m\n\u001b[1;32m      3\u001b[0m \u001b[1;32mimport\u001b[0m \u001b[0mdatetime\u001b[0m \u001b[1;32mas\u001b[0m \u001b[0mdt\u001b[0m\u001b[1;33m\u001b[0m\u001b[0m\n\u001b[0;32m----> 4\u001b[0;31m \u001b[1;32mfrom\u001b[0m \u001b[0myahoo_finance\u001b[0m \u001b[1;32mimport\u001b[0m \u001b[0mShare\u001b[0m\u001b[1;33m\u001b[0m\u001b[0m\n\u001b[0m\u001b[1;32m      5\u001b[0m \u001b[0mos\u001b[0m\u001b[1;33m.\u001b[0m\u001b[0mchdir\u001b[0m\u001b[1;33m(\u001b[0m\u001b[1;34m'd:\\programming_files\\omnivest\\shortex'\u001b[0m\u001b[1;33m)\u001b[0m\u001b[1;33m\u001b[0m\u001b[0m\n\u001b[1;32m      6\u001b[0m \u001b[0mdtypes\u001b[0m \u001b[1;33m=\u001b[0m \u001b[1;33m{\u001b[0m\u001b[1;34m'date'\u001b[0m\u001b[1;33m:\u001b[0m\u001b[0mstr\u001b[0m\u001b[1;33m}\u001b[0m\u001b[1;33m\u001b[0m\u001b[0m\n",
      "\u001b[0;31mImportError\u001b[0m: No module named 'yahoo_finance'"
     ]
    }
   ],
   "source": [
    "import pandas as pd\n",
    "import os\n",
    "import datetime as dt\n",
    "from yahoo_finance import Share\n",
    "os.chdir('d:\\programming_files\\omnivest\\shortex')\n",
    "dtypes = {'date':str}\n",
    "from dateutil.relativedelta import relativedelta\n",
    "import time"
   ]
  },
  {
   "cell_type": "code",
   "execution_count": 60,
   "metadata": {
    "collapsed": false
   },
   "outputs": [],
   "source": [
    "data=pd.read_csv('shortex_16.csv',dtype=dtypes)"
   ]
  },
  {
   "cell_type": "code",
   "execution_count": 20,
   "metadata": {
    "collapsed": true
   },
   "outputs": [],
   "source": [
    "def alld(row_date):\n",
    "    Yr='2016.'\n",
    "    form_date=dt.datetime.strptime(Yr+str(row_date),'%Y.%m.%d').date()\n",
    "    str_date=str(form_date)\n",
    "    one_w=str(form_date+relativedelta(weeks=+1))\n",
    "    two_w=str(form_date+relativedelta(weeks=+2))\n",
    "    one_m=str(form_date+relativedelta(weeks=+4))\n",
    "    two_m=str(form_date+relativedelta(weeks=+8))\n",
    "    date_list=[str_date,one_w,two_w,one_m,two_m]\n",
    "    return date_list"
   ]
  },
  {
   "cell_type": "code",
   "execution_count": null,
   "metadata": {
    "collapsed": false,
    "scrolled": true
   },
   "outputs": [
    {
     "name": "stdout",
     "output_type": "stream",
     "text": [
      "timeout for HON 2016-02-04\n",
      "timeout for NFLX 2016-02-11\n",
      "timeout for"
     ]
    }
   ],
   "source": [
    "def get_price(x):\n",
    "    st=time.time()\n",
    "    price_list=[ [] for _ in range(len(x))]\n",
    "    bad_dta=[]\n",
    "    for k in range(len(x)):\n",
    "        for i in range(5):\n",
    "            temp=alld(x.date[k])[i]\n",
    "            try:\n",
    "                price_list[k].append(Share(x.company[k]).get_historical(temp,temp)[0]['Adj_Close'])\n",
    "            except:\n",
    "                bad_dta.extend([k,i])\n",
    "                print('timeout for',x.company[k],temp)\n",
    "    ed=time.time()\n",
    "    print('All prices are ready. Time used',ed-st)\n",
    "    return price_list,bad_dta\n",
    "    \n",
    "all_price,bad_list=get_price(data)"
   ]
  },
  {
   "cell_type": "code",
   "execution_count": 64,
   "metadata": {
    "collapsed": false
   },
   "outputs": [],
   "source": [
    "data['return_1w']=((data['one_w']-data['same_day'])*((data['position']=='long')-0.5)*2)/data['same_day']\n",
    "data['return_2w']=((data['two_week']-data['same_day'])*((data['position']=='long')-0.5)*2)/data['same_day']\n",
    "data['return_1m']=((data['one_month']-data['same_day'])*((data['position']=='long')-0.5)*2)/data['same_day']\n",
    "data['return_2m']=((data['two_month']-data['same_day'])*((data['position']=='long')-0.5)*2)/data['same_day']\n",
    "\n",
    "data.to_csv('shortex_16_final.csv')"
   ]
  }
 ],
 "metadata": {
  "anaconda-cloud": {},
  "kernelspec": {
   "display_name": "Python [default]",
   "language": "python",
   "name": "python3"
  },
  "language_info": {
   "codemirror_mode": {
    "name": "ipython",
    "version": 3
   },
   "file_extension": ".py",
   "mimetype": "text/x-python",
   "name": "python",
   "nbconvert_exporter": "python",
   "pygments_lexer": "ipython3",
   "version": "3.5.2"
  }
 },
 "nbformat": 4,
 "nbformat_minor": 0
}
