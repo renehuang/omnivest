{
 "cells": [
  {
   "cell_type": "code",
   "execution_count": 4,
   "metadata": {
    "collapsed": false
   },
   "outputs": [],
   "source": [
    "import pandas as pd\n",
    "import os\n",
    "import datetime as dt\n",
    "from yahoo_finance import Share\n",
    "os.chdir('C:\\omnivest')\n",
    "dtypes = {'date':str}\n",
    "from dateutil.relativedelta import relativedelta\n",
    "import time"
   ]
  },
  {
   "cell_type": "code",
   "execution_count": 6,
   "metadata": {
    "collapsed": false
   },
   "outputs": [],
   "source": [
    "data=pd.read_csv('shortex_16_final.csv',dtype=dtypes)"
   ]
  },
  {
   "cell_type": "code",
   "execution_count": 7,
   "metadata": {
    "collapsed": true
   },
   "outputs": [],
   "source": [
    "def alld(row_date):\n",
    "    Yr='2016.'\n",
    "    form_date=dt.datetime.strptime(Yr+str(row_date),'%Y.%m.%d').date()\n",
    "    str_date=str(form_date)\n",
    "    one_w=str(form_date+relativedelta(weeks=+1))\n",
    "    two_w=str(form_date+relativedelta(weeks=+2))\n",
    "    one_m=str(form_date+relativedelta(weeks=+4))\n",
    "    two_m=str(form_date+relativedelta(weeks=+8))\n",
    "    date_list=[str_date,one_w,two_w,one_m,two_m]\n",
    "    return date_list"
   ]
  },
  {
   "cell_type": "code",
   "execution_count": 11,
   "metadata": {
    "collapsed": false,
    "scrolled": true
   },
   "outputs": [
    {
     "name": "stdout",
     "output_type": "stream",
     "text": [
      "timeout for AMGN 2017-02-22\n",
      "timeout for AAPL 2017-02-22\n",
      "timeout for AZPN 2017-02-22\n",
      "timeout for EW 2017-02-22\n",
      "timeout for SWK 2017-02-22\n",
      "timeout for THO 2017-02-22\n",
      "timeout for WGO 2017-02-22\n",
      "timeout for BABA 2017-02-22\n",
      "timeout for BBBY 2017-02-22\n",
      "timeout for PANW 2017-02-22\n",
      "timeout for RL 2017-02-22\n",
      "timeout for RH 2017-02-22\n",
      "timeout for SOHU 2017-02-22\n",
      "timeout for GNC 2017-02-22\n",
      "All prices are ready. Time used 858.8854784965515\n"
     ]
    }
   ],
   "source": [
    "def get_price(x):\n",
    "    st=time.time()\n",
    "    price_list=[ [] for _ in range(len(x))]\n",
    "    bad_dta=[]\n",
    "    for k in range(len(x)):\n",
    "        for i in range(5):\n",
    "            temp=alld(x.date[k])[i]\n",
    "            try:\n",
    "                price_list[k].append(Share(x.company[k]).get_historical(temp,temp)[0]['Adj_Close'])\n",
    "            except:\n",
    "                bad_dta.extend([k,i])\n",
    "                print('timeout for',x.company[k],temp)\n",
    "    ed=time.time()\n",
    "    print('All prices are ready. Time used',ed-st)\n",
    "    return price_list,bad_dta\n",
    "    \n",
    "all_price,bad_list=get_price(data)"
   ]
  },
  {
   "cell_type": "code",
   "execution_count": 10,
   "metadata": {
    "collapsed": false
   },
   "outputs": [],
   "source": [
    "data['return_1w']=((data['one_w']-data['same_day'])*((data['position']=='long')-0.5)*2)/data['same_day']\n",
    "data['return_2w']=((data['two_week']-data['same_day'])*((data['position']=='long')-0.5)*2)/data['same_day']\n",
    "data['return_1m']=((data['one_month']-data['same_day'])*((data['position']=='long')-0.5)*2)/data['same_day']\n",
    "data['return_2m']=((data['two_month']-data['same_day'])*((data['position']=='long')-0.5)*2)/data['same_day']\n",
    "\n",
    "data.to_csv('shortex_16_final.csv')"
   ]
  },
  {
   "cell_type": "code",
   "execution_count": null,
   "metadata": {
    "collapsed": true
   },
   "outputs": [],
   "source": [
    "import pickle\n",
    "\n"
   ]
  }
 ],
 "metadata": {
  "anaconda-cloud": {},
  "kernelspec": {
   "display_name": "Python [default]",
   "language": "python",
   "name": "python3"
  },
  "language_info": {
   "codemirror_mode": {
    "name": "ipython",
    "version": 3
   },
   "file_extension": ".py",
   "mimetype": "text/x-python",
   "name": "python",
   "nbconvert_exporter": "python",
   "pygments_lexer": "ipython3",
   "version": "3.5.2"
  }
 },
 "nbformat": 4,
 "nbformat_minor": 0
}
